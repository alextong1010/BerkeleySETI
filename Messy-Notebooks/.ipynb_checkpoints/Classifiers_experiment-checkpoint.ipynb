{
 "cells": [
  {
   "cell_type": "code",
   "execution_count": 1,
   "id": "a50383cc-a4c5-4b65-8ffc-b6c051d51ff7",
   "metadata": {},
   "outputs": [],
   "source": [
    "import pandas as pd\n",
    "import numpy as np\n",
    "from sklearn import svm\n",
    "from sklearn.linear_model import SGDClassifier\n",
    "from sklearn.neighbors import KNeighborsClassifier\n",
    "from sklearn.ensemble import RandomForestClassifier\n",
    "from sklearn.gaussian_process import GaussianProcessClassifier\n",
    "from sklearn.tree import DecisionTreeClassifier\n",
    "\n",
    "from sklearn.preprocessing import MinMaxScaler\n",
    "from sklearn.preprocessing import StandardScaler\n",
    "from sklearn.pipeline import make_pipeline\n",
    "from sklearn.model_selection import train_test_split\n",
    "from sklearn.metrics import accuracy_score\n",
    "from sklearn.metrics import precision_score"
   ]
  },
  {
   "cell_type": "code",
   "execution_count": 94,
   "id": "105981a9-6938-4b3c-b168-90ed0e97739a",
   "metadata": {},
   "outputs": [
    {
     "ename": "NameError",
     "evalue": "name 'check_random_state' is not defined",
     "output_type": "error",
     "traceback": [
      "\u001b[0;31m---------------------------------------------------------------------------\u001b[0m",
      "\u001b[0;31mNameError\u001b[0m                                 Traceback (most recent call last)",
      "\u001b[0;32m/tmp/ipykernel_17063/2497952859.py\u001b[0m in \u001b[0;36m<module>\u001b[0;34m\u001b[0m\n\u001b[1;32m      1\u001b[0m \u001b[0;31m#SETS SEED, MUST NEED FOR REPRODUCABLE RESULTS\u001b[0m\u001b[0;34m\u001b[0m\u001b[0;34m\u001b[0m\u001b[0;34m\u001b[0m\u001b[0m\n\u001b[1;32m      2\u001b[0m \u001b[0mnp\u001b[0m\u001b[0;34m.\u001b[0m\u001b[0mrandom\u001b[0m\u001b[0;34m.\u001b[0m\u001b[0mseed\u001b[0m\u001b[0;34m(\u001b[0m\u001b[0;36m31415\u001b[0m\u001b[0;34m)\u001b[0m\u001b[0;34m\u001b[0m\u001b[0;34m\u001b[0m\u001b[0m\n\u001b[0;32m----> 3\u001b[0;31m \u001b[0mcheck_random_state\u001b[0m\u001b[0;34m(\u001b[0m\u001b[0mseed\u001b[0m\u001b[0;34m)\u001b[0m\u001b[0;34m[\u001b[0m\u001b[0msource\u001b[0m\u001b[0;34m]\u001b[0m\u001b[0;34m\u001b[0m\u001b[0;34m\u001b[0m\u001b[0m\n\u001b[0m",
      "\u001b[0;31mNameError\u001b[0m: name 'check_random_state' is not defined"
     ]
    }
   ],
   "source": []
  },
  {
   "cell_type": "code",
   "execution_count": 2,
   "id": "a3ec603b-391f-48a5-9a40-ad9dcb7542f5",
   "metadata": {},
   "outputs": [],
   "source": [
    "fset = pd.read_csv('../BerkeleySETI/inputdata/features.csv')"
   ]
  },
  {
   "cell_type": "code",
   "execution_count": 3,
   "id": "a966dda2-3966-45c1-a817-1febbca3165b",
   "metadata": {},
   "outputs": [
    {
     "data": {
      "text/html": [
       "<div>\n",
       "<style scoped>\n",
       "    .dataframe tbody tr th:only-of-type {\n",
       "        vertical-align: middle;\n",
       "    }\n",
       "\n",
       "    .dataframe tbody tr th {\n",
       "        vertical-align: top;\n",
       "    }\n",
       "\n",
       "    .dataframe thead th {\n",
       "        text-align: right;\n",
       "    }\n",
       "</style>\n",
       "<table border=\"1\" class=\"dataframe\">\n",
       "  <thead>\n",
       "    <tr style=\"text-align: right;\">\n",
       "      <th></th>\n",
       "      <th>Filename</th>\n",
       "      <th>RA</th>\n",
       "      <th>Dec</th>\n",
       "      <th>TIC_ID</th>\n",
       "      <th>Sector</th>\n",
       "      <th>Camera</th>\n",
       "      <th>CCD</th>\n",
       "      <th>Magnitude</th>\n",
       "      <th>Label</th>\n",
       "    </tr>\n",
       "  </thead>\n",
       "  <tbody>\n",
       "    <tr>\n",
       "      <th>0</th>\n",
       "      <td>tesslcs_sector_1_104/2_min_cadence_targets/tes...</td>\n",
       "      <td>316.544150</td>\n",
       "      <td>-33.615153</td>\n",
       "      <td>92709863</td>\n",
       "      <td>1</td>\n",
       "      <td>1</td>\n",
       "      <td>4</td>\n",
       "      <td>9.2496</td>\n",
       "      <td>NonEB</td>\n",
       "    </tr>\n",
       "    <tr>\n",
       "      <th>1</th>\n",
       "      <td>tesslcs_sector_1_104/2_min_cadence_targets/tes...</td>\n",
       "      <td>318.166964</td>\n",
       "      <td>-51.322785</td>\n",
       "      <td>79249902</td>\n",
       "      <td>1</td>\n",
       "      <td>2</td>\n",
       "      <td>4</td>\n",
       "      <td>9.0945</td>\n",
       "      <td>NonEB</td>\n",
       "    </tr>\n",
       "    <tr>\n",
       "      <th>2</th>\n",
       "      <td>tesslcs_sector_1_104/2_min_cadence_targets/tes...</td>\n",
       "      <td>96.580518</td>\n",
       "      <td>-62.648765</td>\n",
       "      <td>150391436</td>\n",
       "      <td>1</td>\n",
       "      <td>4</td>\n",
       "      <td>4</td>\n",
       "      <td>10.0789</td>\n",
       "      <td>NonEB</td>\n",
       "    </tr>\n",
       "    <tr>\n",
       "      <th>3</th>\n",
       "      <td>tesslcs_sector_1_104/2_min_cadence_targets/tes...</td>\n",
       "      <td>48.422141</td>\n",
       "      <td>-66.410695</td>\n",
       "      <td>31740373</td>\n",
       "      <td>1</td>\n",
       "      <td>3</td>\n",
       "      <td>4</td>\n",
       "      <td>8.8544</td>\n",
       "      <td>NonEB</td>\n",
       "    </tr>\n",
       "    <tr>\n",
       "      <th>4</th>\n",
       "      <td>tesslcs_sector_1_104/2_min_cadence_targets/tes...</td>\n",
       "      <td>87.388671</td>\n",
       "      <td>-54.192123</td>\n",
       "      <td>350586063</td>\n",
       "      <td>1</td>\n",
       "      <td>4</td>\n",
       "      <td>4</td>\n",
       "      <td>9.0271</td>\n",
       "      <td>NonEB</td>\n",
       "    </tr>\n",
       "  </tbody>\n",
       "</table>\n",
       "</div>"
      ],
      "text/plain": [
       "                                            Filename          RA        Dec  \\\n",
       "0  tesslcs_sector_1_104/2_min_cadence_targets/tes...  316.544150 -33.615153   \n",
       "1  tesslcs_sector_1_104/2_min_cadence_targets/tes...  318.166964 -51.322785   \n",
       "2  tesslcs_sector_1_104/2_min_cadence_targets/tes...   96.580518 -62.648765   \n",
       "3  tesslcs_sector_1_104/2_min_cadence_targets/tes...   48.422141 -66.410695   \n",
       "4  tesslcs_sector_1_104/2_min_cadence_targets/tes...   87.388671 -54.192123   \n",
       "\n",
       "      TIC_ID  Sector  Camera  CCD  Magnitude  Label  \n",
       "0   92709863       1       1    4     9.2496  NonEB  \n",
       "1   79249902       1       2    4     9.0945  NonEB  \n",
       "2  150391436       1       4    4    10.0789  NonEB  \n",
       "3   31740373       1       3    4     8.8544  NonEB  \n",
       "4  350586063       1       4    4     9.0271  NonEB  "
      ]
     },
     "execution_count": 3,
     "metadata": {},
     "output_type": "execute_result"
    }
   ],
   "source": [
    "ref = pd.read_csv(\"../BerkeleySETI/inputdata/fulldataset.csv\")\n",
    "ref.head()"
   ]
  },
  {
   "cell_type": "code",
   "execution_count": 4,
   "id": "36aa951a-5525-4095-bad0-357e1e376815",
   "metadata": {},
   "outputs": [
    {
     "data": {
      "text/html": [
       "<div>\n",
       "<style scoped>\n",
       "    .dataframe tbody tr th:only-of-type {\n",
       "        vertical-align: middle;\n",
       "    }\n",
       "\n",
       "    .dataframe tbody tr th {\n",
       "        vertical-align: top;\n",
       "    }\n",
       "\n",
       "    .dataframe thead th {\n",
       "        text-align: right;\n",
       "    }\n",
       "</style>\n",
       "<table border=\"1\" class=\"dataframe\">\n",
       "  <thead>\n",
       "    <tr style=\"text-align: right;\">\n",
       "      <th></th>\n",
       "      <th>Filename</th>\n",
       "      <th>RA</th>\n",
       "      <th>Dec</th>\n",
       "      <th>TIC_ID</th>\n",
       "      <th>Sector</th>\n",
       "      <th>Camera</th>\n",
       "      <th>CCD</th>\n",
       "      <th>Magnitude</th>\n",
       "      <th>Label</th>\n",
       "    </tr>\n",
       "  </thead>\n",
       "  <tbody>\n",
       "    <tr>\n",
       "      <th>13490</th>\n",
       "      <td>tesslcs_sector_14_104/2_min_cadence_targets/te...</td>\n",
       "      <td>296.016413</td>\n",
       "      <td>43.436752</td>\n",
       "      <td>272176884</td>\n",
       "      <td>14</td>\n",
       "      <td>2</td>\n",
       "      <td>4</td>\n",
       "      <td>11.52460</td>\n",
       "      <td>EB</td>\n",
       "    </tr>\n",
       "    <tr>\n",
       "      <th>8730</th>\n",
       "      <td>tesslcs_sector_3_104/2_min_cadence_targets/tes...</td>\n",
       "      <td>47.620212</td>\n",
       "      <td>-57.359202</td>\n",
       "      <td>207200487</td>\n",
       "      <td>3</td>\n",
       "      <td>3</td>\n",
       "      <td>3</td>\n",
       "      <td>10.77480</td>\n",
       "      <td>EB</td>\n",
       "    </tr>\n",
       "    <tr>\n",
       "      <th>12290</th>\n",
       "      <td>tesslcs_sector_17_104/2_min_cadence_targets/te...</td>\n",
       "      <td>2.279561</td>\n",
       "      <td>59.637558</td>\n",
       "      <td>396235258</td>\n",
       "      <td>17</td>\n",
       "      <td>2</td>\n",
       "      <td>1</td>\n",
       "      <td>9.14401</td>\n",
       "      <td>EB</td>\n",
       "    </tr>\n",
       "    <tr>\n",
       "      <th>10241</th>\n",
       "      <td>tesslcs_sector_13_104/2_min_cadence_targets/te...</td>\n",
       "      <td>298.878821</td>\n",
       "      <td>-71.261251</td>\n",
       "      <td>396170777</td>\n",
       "      <td>13</td>\n",
       "      <td>2</td>\n",
       "      <td>2</td>\n",
       "      <td>9.61920</td>\n",
       "      <td>EB</td>\n",
       "    </tr>\n",
       "    <tr>\n",
       "      <th>13086</th>\n",
       "      <td>tesslcs_sector_14_104/2_min_cadence_targets/te...</td>\n",
       "      <td>284.507910</td>\n",
       "      <td>38.266188</td>\n",
       "      <td>120258315</td>\n",
       "      <td>14</td>\n",
       "      <td>2</td>\n",
       "      <td>3</td>\n",
       "      <td>5.97790</td>\n",
       "      <td>EB</td>\n",
       "    </tr>\n",
       "    <tr>\n",
       "      <th>...</th>\n",
       "      <td>...</td>\n",
       "      <td>...</td>\n",
       "      <td>...</td>\n",
       "      <td>...</td>\n",
       "      <td>...</td>\n",
       "      <td>...</td>\n",
       "      <td>...</td>\n",
       "      <td>...</td>\n",
       "      <td>...</td>\n",
       "    </tr>\n",
       "    <tr>\n",
       "      <th>251</th>\n",
       "      <td>tesslcs_sector_1_104/2_min_cadence_targets/tes...</td>\n",
       "      <td>341.842168</td>\n",
       "      <td>-46.330370</td>\n",
       "      <td>121421384</td>\n",
       "      <td>1</td>\n",
       "      <td>2</td>\n",
       "      <td>3</td>\n",
       "      <td>9.57130</td>\n",
       "      <td>NonEB</td>\n",
       "    </tr>\n",
       "    <tr>\n",
       "      <th>7829</th>\n",
       "      <td>tesslcs_sector_7_104/2_min_cadence_targets/tes...</td>\n",
       "      <td>96.515995</td>\n",
       "      <td>-59.016167</td>\n",
       "      <td>260502102</td>\n",
       "      <td>7</td>\n",
       "      <td>4</td>\n",
       "      <td>2</td>\n",
       "      <td>11.02610</td>\n",
       "      <td>EB</td>\n",
       "    </tr>\n",
       "    <tr>\n",
       "      <th>4561</th>\n",
       "      <td>tesslcs_sector_1_104/2_min_cadence_targets/tes...</td>\n",
       "      <td>28.804628</td>\n",
       "      <td>-70.433790</td>\n",
       "      <td>232075203</td>\n",
       "      <td>1</td>\n",
       "      <td>3</td>\n",
       "      <td>4</td>\n",
       "      <td>12.70170</td>\n",
       "      <td>NonEB</td>\n",
       "    </tr>\n",
       "    <tr>\n",
       "      <th>12532</th>\n",
       "      <td>tesslcs_sector_11_104/2_min_cadence_targets/te...</td>\n",
       "      <td>96.107539</td>\n",
       "      <td>-64.499186</td>\n",
       "      <td>150357064</td>\n",
       "      <td>11</td>\n",
       "      <td>4</td>\n",
       "      <td>2</td>\n",
       "      <td>10.84180</td>\n",
       "      <td>EB</td>\n",
       "    </tr>\n",
       "    <tr>\n",
       "      <th>10108</th>\n",
       "      <td>tesslcs_sector_26_104/2_min_cadence_targets/te...</td>\n",
       "      <td>264.903364</td>\n",
       "      <td>32.946320</td>\n",
       "      <td>18271803</td>\n",
       "      <td>26</td>\n",
       "      <td>1</td>\n",
       "      <td>2</td>\n",
       "      <td>9.53942</td>\n",
       "      <td>EB</td>\n",
       "    </tr>\n",
       "  </tbody>\n",
       "</table>\n",
       "<p>13774 rows × 9 columns</p>\n",
       "</div>"
      ],
      "text/plain": [
       "                                                Filename          RA  \\\n",
       "13490  tesslcs_sector_14_104/2_min_cadence_targets/te...  296.016413   \n",
       "8730   tesslcs_sector_3_104/2_min_cadence_targets/tes...   47.620212   \n",
       "12290  tesslcs_sector_17_104/2_min_cadence_targets/te...    2.279561   \n",
       "10241  tesslcs_sector_13_104/2_min_cadence_targets/te...  298.878821   \n",
       "13086  tesslcs_sector_14_104/2_min_cadence_targets/te...  284.507910   \n",
       "...                                                  ...         ...   \n",
       "251    tesslcs_sector_1_104/2_min_cadence_targets/tes...  341.842168   \n",
       "7829   tesslcs_sector_7_104/2_min_cadence_targets/tes...   96.515995   \n",
       "4561   tesslcs_sector_1_104/2_min_cadence_targets/tes...   28.804628   \n",
       "12532  tesslcs_sector_11_104/2_min_cadence_targets/te...   96.107539   \n",
       "10108  tesslcs_sector_26_104/2_min_cadence_targets/te...  264.903364   \n",
       "\n",
       "             Dec     TIC_ID  Sector  Camera  CCD  Magnitude  Label  \n",
       "13490  43.436752  272176884      14       2    4   11.52460     EB  \n",
       "8730  -57.359202  207200487       3       3    3   10.77480     EB  \n",
       "12290  59.637558  396235258      17       2    1    9.14401     EB  \n",
       "10241 -71.261251  396170777      13       2    2    9.61920     EB  \n",
       "13086  38.266188  120258315      14       2    3    5.97790     EB  \n",
       "...          ...        ...     ...     ...  ...        ...    ...  \n",
       "251   -46.330370  121421384       1       2    3    9.57130  NonEB  \n",
       "7829  -59.016167  260502102       7       4    2   11.02610     EB  \n",
       "4561  -70.433790  232075203       1       3    4   12.70170  NonEB  \n",
       "12532 -64.499186  150357064      11       4    2   10.84180     EB  \n",
       "10108  32.946320   18271803      26       1    2    9.53942     EB  \n",
       "\n",
       "[13774 rows x 9 columns]"
      ]
     },
     "execution_count": 4,
     "metadata": {},
     "output_type": "execute_result"
    }
   ],
   "source": [
    "ref = ref.sample(frac=1)\n",
    "ref"
   ]
  },
  {
   "cell_type": "code",
   "execution_count": 45,
   "id": "b1eb3930-0035-4552-8f9a-5441463c473a",
   "metadata": {},
   "outputs": [],
   "source": [
    "train, test = train_test_split(np.arange(len(ref['Label'])), train_size=0.8)"
   ]
  },
  {
   "cell_type": "code",
   "execution_count": 101,
   "id": "f07b3b6e-e855-4d53-a4fa-82ae69953971",
   "metadata": {},
   "outputs": [],
   "source": [
    "#First Time\n",
    "X_train = fset.iloc[train].dropna()\n",
    "y_train = ref['Label'].iloc[X_train.index]\n",
    "X_test = fset.iloc[test].dropna()\n",
    "y_test = ref['Label'].iloc[X_test.index]"
   ]
  },
  {
   "cell_type": "code",
   "execution_count": 70,
   "id": "19e48258-157d-472c-8afd-1b0dc4584b1c",
   "metadata": {},
   "outputs": [
    {
     "data": {
      "text/plain": [
       "pandas.core.series.Series"
      ]
     },
     "execution_count": 70,
     "metadata": {},
     "output_type": "execute_result"
    }
   ],
   "source": [
    "type(y_train)"
   ]
  },
  {
   "cell_type": "code",
   "execution_count": 25,
   "id": "9581144d-0950-4c8d-8844-44b401b21578",
   "metadata": {},
   "outputs": [],
   "source": [
    "y_train.to_csv(f'../BerkeleySETI/inputdata/1y_train_4-26-22.csv', index=False)"
   ]
  },
  {
   "cell_type": "code",
   "execution_count": null,
   "id": "d3a891ea-1306-4295-8c76-f4715e183d35",
   "metadata": {},
   "outputs": [],
   "source": [
    "#First Time\n",
    "X_train.to_csv(f'../BerkeleySETI/inputdata/X_train_4-26-22.csv')\n",
    "y_train.to_csv(f'../BerkeleySETI/inputdata/y_train_4-26-22.csv')\n",
    "X_test.to_csv(f'../BerkeleySETI/inputdata/X_test_4-26-22.csv')\n",
    "y_test.to_csv(f'../BerkeleySETI/inputdata/y_test_4-26-22.csv')"
   ]
  },
  {
   "cell_type": "code",
   "execution_count": 62,
   "id": "28b01cb1-6379-41e2-8f31-bcb543ca7e0b",
   "metadata": {},
   "outputs": [],
   "source": [
    "#Every other time\n",
    "X_train = pd.read_csv(f'../BerkeleySETI/inputdata/X_train_4-26-22.csv', index_col=0)\n",
    "y_train = pd.read_csv(f'../BerkeleySETI/inputdata/y_train_4-26-22.csv', index_col=0)\n",
    "X_test = pd.read_csv(f'../BerkeleySETI/inputdata/X_test_4-26-22.csv', index_col=0)\n",
    "y_test = pd.read_csv(f'../BerkeleySETI/inputdata/y_test_4-26-22.csv', index_col=0)"
   ]
  },
  {
   "cell_type": "code",
   "execution_count": 67,
   "id": "64912bf7-1107-4456-a2a2-072833ef8594",
   "metadata": {},
   "outputs": [],
   "source": [
    "y_train = y_train.squeeze()\n",
    "y_test = y_test.squeeze()"
   ]
  },
  {
   "cell_type": "code",
   "execution_count": 98,
   "id": "85811f2c-4f3c-4848-b7d8-0a6672161388",
   "metadata": {},
   "outputs": [],
   "source": [
    "svc = make_pipeline(StandardScaler(),svm.LinearSVC(dual=False))"
   ]
  },
  {
   "cell_type": "code",
   "execution_count": 37,
   "id": "7b0f2c07-44be-4a72-88c6-93a6b38f8a62",
   "metadata": {},
   "outputs": [
    {
     "data": {
      "text/plain": [
       "pandas.core.series.Series"
      ]
     },
     "execution_count": 37,
     "metadata": {},
     "output_type": "execute_result"
    }
   ],
   "source": [
    "type(y_train)"
   ]
  },
  {
   "cell_type": "code",
   "execution_count": 101,
   "id": "82ce68fd-a237-4fec-aedb-9e0e494602cb",
   "metadata": {},
   "outputs": [],
   "source": [
    "svc.fit(X_train,y_train)\n",
    "y_predsvc = svc.predict(X_test)"
   ]
  },
  {
   "cell_type": "markdown",
   "id": "d43079d0-ef02-4400-9826-29d8fad3cbd1",
   "metadata": {},
   "source": [
    "4/28/2022 - 0.6212844036697248 (accuracy_score)\n",
    "0.6218302094818081 (precision_score)"
   ]
  },
  {
   "cell_type": "code",
   "execution_count": 102,
   "id": "dd7bd294-fb3a-48ad-ac6a-3d4dd12ceb8b",
   "metadata": {},
   "outputs": [
    {
     "name": "stdout",
     "output_type": "stream",
     "text": [
      "0.6212844036697248\n",
      "0.6218302094818081\n"
     ]
    }
   ],
   "source": [
    "print(accuracy_score(y_test,y_predsvc)) # Fraction of classifications that were correct\n",
    "print(precision_score(y_test,y_predsvc,pos_label='EB'))"
   ]
  },
  {
   "cell_type": "code",
   "execution_count": null,
   "id": "3db4f7b2-02b4-4e63-97d5-b93c9d1953bb",
   "metadata": {},
   "outputs": [],
   "source": []
  },
  {
   "cell_type": "code",
   "execution_count": 95,
   "id": "6ff390b1-fa70-44f7-bf1c-469cc1587e94",
   "metadata": {},
   "outputs": [],
   "source": [
    "SGD = make_pipeline(StandardScaler(), SGDClassifier())"
   ]
  },
  {
   "cell_type": "code",
   "execution_count": 103,
   "id": "5cd33538-0e9c-425e-bc05-17e3b3f6db2e",
   "metadata": {},
   "outputs": [],
   "source": [
    "SGD.fit(X_train,y_train)\n",
    "y_predSGD = SGD.predict(X_test)"
   ]
  },
  {
   "cell_type": "markdown",
   "id": "a923301c-9f1a-41cb-a778-a981436a7709",
   "metadata": {},
   "source": [
    "Something in the above cell is changing the data, since I am getting different results each time. I wonder what could be the issue\n",
    "Update: What might be causing the issue is a random seed"
   ]
  },
  {
   "cell_type": "markdown",
   "id": "a5fcd0df-302e-4009-adb5-72d493d59bda",
   "metadata": {},
   "source": [
    "4/28/2022: 0.6238532110091743 (accuracy_score) 0.6245353159851301 (precision_score)"
   ]
  },
  {
   "cell_type": "code",
   "execution_count": 104,
   "id": "8f547564-6350-440d-9f47-b8577011c8bf",
   "metadata": {},
   "outputs": [
    {
     "name": "stdout",
     "output_type": "stream",
     "text": [
      "0.6209174311926605\n",
      "0.6219602063375093\n"
     ]
    }
   ],
   "source": [
    "print(accuracy_score(y_test,y_predSGD)) # Fraction of classifications that were correct\n",
    "print(precision_score(y_test,y_predSGD,pos_label='EB'))"
   ]
  },
  {
   "cell_type": "code",
   "execution_count": 77,
   "id": "837636ce-7233-47d1-bbb6-e2614bcea0da",
   "metadata": {},
   "outputs": [
    {
     "name": "stdout",
     "output_type": "stream",
     "text": [
      "0.6201834862385321\n",
      "0.6217712177121771\n"
     ]
    }
   ],
   "source": [
    "print(accuracy_score(y_test,y_predSGD)) # Fraction of classifications that were correct\n",
    "print(precision_score(y_test,y_predSGD,pos_label='EB'))"
   ]
  },
  {
   "cell_type": "code",
   "execution_count": 81,
   "id": "10c1852e-c919-4de7-98e2-c6b0c84ef219",
   "metadata": {},
   "outputs": [],
   "source": [
    "KNN = make_pipeline(StandardScaler(), KNeighborsClassifier(n_neighbors=10))"
   ]
  },
  {
   "cell_type": "code",
   "execution_count": 82,
   "id": "657709bd-2f5a-4d21-b177-15c0e3c5631c",
   "metadata": {},
   "outputs": [],
   "source": [
    "KNN.fit(X_train,y_train)\n",
    "y_predKNN = KNN.predict(X_test)"
   ]
  },
  {
   "cell_type": "code",
   "execution_count": 83,
   "id": "554e7eaa-b8a8-4b1a-8634-44e8dcb08cd5",
   "metadata": {},
   "outputs": [
    {
     "name": "stdout",
     "output_type": "stream",
     "text": [
      "0.5779816513761468\n",
      "0.6141600335148723\n"
     ]
    }
   ],
   "source": [
    "print(accuracy_score(y_test,y_predKNN)) # Fraction of classifications that were correct\n",
    "print(precision_score(y_test,y_predKNN,pos_label='EB'))"
   ]
  },
  {
   "cell_type": "markdown",
   "id": "88c51018-8ea2-4924-9913-7093570c2ada",
   "metadata": {},
   "source": [
    "When n_neighbors = 10, 0.5779816513761468 (accuracy_score) and 0.6141600335148723 (precision_score)"
   ]
  },
  {
   "cell_type": "markdown",
   "id": "b419f77e-3c5f-446c-9af0-8246ba3b7e9b",
   "metadata": {},
   "source": [
    "When n_neighbors = 3, 0.5376146788990825 (accuracy_score) 0.6180141074335322 (precision_score)"
   ]
  },
  {
   "cell_type": "code",
   "execution_count": 94,
   "id": "3e84beb2-0f77-42f5-82ef-639abd73fdbe",
   "metadata": {},
   "outputs": [
    {
     "name": "stdout",
     "output_type": "stream",
     "text": [
      "n = 1:\n",
      "0.5163302752293578\n",
      "0.6114725014784151\n",
      "n = 2:\n",
      "0.581651376146789\n",
      "0.6183368869936035\n",
      "n = 3:\n",
      "0.5376146788990825\n",
      "0.6180141074335322\n",
      "n = 4:\n",
      "0.5746788990825689\n",
      "0.6155172413793103\n",
      "n = 5:\n",
      "0.551559633027523\n",
      "0.620601733809281\n",
      "n = 6:\n",
      "0.5787155963302753\n",
      "0.6173316173316173\n",
      "n = 7:\n",
      "0.5625688073394496\n",
      "0.6213217559093102\n",
      "n = 8:\n",
      "0.5779816513761468\n",
      "0.6149304091100801\n",
      "n = 9:\n",
      "0.5581651376146789\n",
      "0.6147732585320244\n",
      "n = 10:\n",
      "0.5779816513761468\n",
      "0.6141600335148723\n",
      "n = 11:\n",
      "0.5629357798165138\n",
      "0.614233907524932\n",
      "n = 12:\n",
      "0.5871559633027523\n",
      "0.6183554817275747\n",
      "n = 13:\n",
      "0.5761467889908257\n",
      "0.6198934280639432\n",
      "n = 14:\n",
      "0.5878899082568807\n",
      "0.6180842279108175\n",
      "n = 15:\n",
      "0.5805504587155963\n",
      "0.6202090592334495\n"
     ]
    }
   ],
   "source": [
    "for i in range (1,16):\n",
    "    KNN = make_pipeline(StandardScaler(), KNeighborsClassifier(n_neighbors=i))\n",
    "    KNN.fit(X_train,y_train)\n",
    "    y_predKNN = KNN.predict(X_test)\n",
    "    print(f'n = {i}:')\n",
    "    print(accuracy_score(y_test,y_predKNN)) # Fraction of classifications that were correct\n",
    "    print(precision_score(y_test,y_predKNN,pos_label='EB'))"
   ]
  },
  {
   "cell_type": "code",
   "execution_count": 84,
   "id": "c626e1c8-a5ed-4723-9d6d-a9cb0f53d8bd",
   "metadata": {},
   "outputs": [],
   "source": [
    "RF = make_pipeline(StandardScaler(), RandomForestClassifier())"
   ]
  },
  {
   "cell_type": "code",
   "execution_count": 85,
   "id": "4a955008-1708-4b95-b608-9c26ff6a3fc2",
   "metadata": {},
   "outputs": [],
   "source": [
    "RF.fit(X_train,y_train)\n",
    "y_predRF = RF.predict(X_test)"
   ]
  },
  {
   "cell_type": "markdown",
   "id": "91aec658-e73a-4659-a948-f316ffdc408c",
   "metadata": {},
   "source": [
    "4/28/2022 - 0.581651376146789 (accuracy_score) 0.6171380329252849 (precision_score)"
   ]
  },
  {
   "cell_type": "code",
   "execution_count": 86,
   "id": "e180bd54-ef5d-411d-85d7-2e690c87e7b7",
   "metadata": {},
   "outputs": [
    {
     "name": "stdout",
     "output_type": "stream",
     "text": [
      "0.5845871559633028\n",
      "0.6190274841437632\n"
     ]
    }
   ],
   "source": [
    "print(accuracy_score(y_test,y_predRF)) # Fraction of classifications that were correct\n",
    "print(precision_score(y_test,y_predRF,pos_label='EB'))"
   ]
  },
  {
   "cell_type": "code",
   "execution_count": null,
   "id": "cd35e139-a8ef-4924-b4d5-ce0805cde70b",
   "metadata": {},
   "outputs": [],
   "source": []
  },
  {
   "cell_type": "code",
   "execution_count": 115,
   "id": "c2f85687-4fc3-4471-9e7b-30cff30bd7c1",
   "metadata": {},
   "outputs": [],
   "source": [
    "GPC = make_pipeline(StandardScaler(), GaussianProcessClassifier(random_state=0))"
   ]
  },
  {
   "cell_type": "code",
   "execution_count": 116,
   "id": "1d45ef6c-948c-4e24-846b-ac742e894d7a",
   "metadata": {},
   "outputs": [],
   "source": [
    "GPC.fit(X_train,y_train)\n",
    "y_predGPC = GPC.predict(X_test)"
   ]
  },
  {
   "cell_type": "markdown",
   "id": "433c3f06-a9c3-4702-ba29-36e8ea0e7f0a",
   "metadata": {},
   "source": [
    "4/28/2022 - 0.5856880733944955 (accuracy_score) 0.6188077246011755 (precision_score)"
   ]
  },
  {
   "cell_type": "markdown",
   "id": "2ebd5d70-fcd6-4539-8571-58ce7553eefd",
   "metadata": {},
   "source": [
    "This one took especially long to run, for some reason\n"
   ]
  },
  {
   "cell_type": "code",
   "execution_count": 118,
   "id": "3a10c254-affd-4eac-933d-2cd67e2a07be",
   "metadata": {},
   "outputs": [
    {
     "name": "stdout",
     "output_type": "stream",
     "text": [
      "0.5856880733944955\n",
      "0.6188077246011755\n"
     ]
    }
   ],
   "source": [
    "print(accuracy_score(y_test,y_predGPC)) # Fraction of classifications that were correct\n",
    "print(precision_score(y_test,y_predGPC,pos_label='EB'))"
   ]
  },
  {
   "cell_type": "code",
   "execution_count": null,
   "id": "4c6a9064-e905-4ecf-b0bf-f290066afe1c",
   "metadata": {},
   "outputs": [],
   "source": []
  },
  {
   "cell_type": "code",
   "execution_count": 121,
   "id": "60039c9d-827d-4dc1-8710-433ed1cd4aab",
   "metadata": {},
   "outputs": [],
   "source": [
    "DTC = make_pipeline(StandardScaler(), DecisionTreeClassifier())"
   ]
  },
  {
   "cell_type": "code",
   "execution_count": 122,
   "id": "1fab643d-b3e1-43e9-988f-47d417836f16",
   "metadata": {},
   "outputs": [],
   "source": [
    "DTC.fit(X_train,y_train)\n",
    "y_predDTC = DTC.predict(X_test)"
   ]
  },
  {
   "cell_type": "markdown",
   "id": "8a9099f7-d40d-425b-a69a-5eb46f1490e5",
   "metadata": {},
   "source": [
    "4/28/2022 - 0.5442201834862386 (accuracy_score) 0.6303972366148531 (precision_score)"
   ]
  },
  {
   "cell_type": "code",
   "execution_count": 123,
   "id": "3b1aa6d0-47f7-4c54-8429-b57294226833",
   "metadata": {},
   "outputs": [
    {
     "name": "stdout",
     "output_type": "stream",
     "text": [
      "0.5442201834862386\n",
      "0.6303972366148531\n"
     ]
    }
   ],
   "source": [
    "print(accuracy_score(y_test,y_predDTC)) # Fraction of classifications that were correct\n",
    "print(precision_score(y_test,y_predDTC,pos_label='EB'))"
   ]
  },
  {
   "cell_type": "markdown",
   "id": "0b9de7dd-011c-4b31-ac4e-610f2de7bd21",
   "metadata": {},
   "source": [
    "Highest score - SGD Classifier 4/28/2022: 0.6238532110091743 (accuracy_score) 0.6245353159851301 (precision_score)"
   ]
  },
  {
   "cell_type": "markdown",
   "id": "885690ad-4715-4870-b15f-4bc9a037ee60",
   "metadata": {},
   "source": []
  },
  {
   "cell_type": "markdown",
   "id": "82b81075-381d-46e6-bf89-aabaa339affd",
   "metadata": {},
   "source": [
    "Hyper-parameters are parameters that are not directly learnt within estimators. In scikit-learn they are passed as arguments to the constructor of the estimator classes. Typical examples include C, kernel and gamma for Support Vector Classifier, alpha for Lasso, etc.\n",
    "\n",
    "It is possible and recommended to search the hyper-parameter space for the best cross validation score.\n",
    "\n",
    "Any parameter provided when constructing an estimator may be optimized in this manner. Specifically, to find the names and current values for all parameters for a given estimator, use"
   ]
  },
  {
   "cell_type": "code",
   "execution_count": 15,
   "id": "5da4b26a-2398-433c-b08a-098d2c56cff9",
   "metadata": {},
   "outputs": [
    {
     "data": {
      "text/plain": [
       "{'memory': None,\n",
       " 'steps': [('standardscaler', StandardScaler()),\n",
       "  ('linearsvc', LinearSVC(dual=False))],\n",
       " 'verbose': False,\n",
       " 'standardscaler': StandardScaler(),\n",
       " 'linearsvc': LinearSVC(dual=False),\n",
       " 'standardscaler__copy': True,\n",
       " 'standardscaler__with_mean': True,\n",
       " 'standardscaler__with_std': True,\n",
       " 'linearsvc__C': 1.0,\n",
       " 'linearsvc__class_weight': None,\n",
       " 'linearsvc__dual': False,\n",
       " 'linearsvc__fit_intercept': True,\n",
       " 'linearsvc__intercept_scaling': 1,\n",
       " 'linearsvc__loss': 'squared_hinge',\n",
       " 'linearsvc__max_iter': 1000,\n",
       " 'linearsvc__multi_class': 'ovr',\n",
       " 'linearsvc__penalty': 'l2',\n",
       " 'linearsvc__random_state': None,\n",
       " 'linearsvc__tol': 0.0001,\n",
       " 'linearsvc__verbose': 0}"
      ]
     },
     "execution_count": 15,
     "metadata": {},
     "output_type": "execute_result"
    }
   ],
   "source": [
    "svc.get_params()"
   ]
  },
  {
   "cell_type": "code",
   "execution_count": null,
   "id": "56dd1afd-1eb3-4c44-a363-c57f12d8afa2",
   "metadata": {},
   "outputs": [
    {
     "data": {
      "text/plain": [
       "{'memory': None,\n",
       " 'steps': [('standardscaler', StandardScaler()),\n",
       "  ('sgdclassifier', SGDClassifier())],\n",
       " 'verbose': False,\n",
       " 'standardscaler': StandardScaler(),\n",
       " 'sgdclassifier': SGDClassifier(),\n",
       " 'standardscaler__copy': True,\n",
       " 'standardscaler__with_mean': True,\n",
       " 'standardscaler__with_std': True,\n",
       " 'sgdclassifier__alpha': 0.0001,\n",
       " 'sgdclassifier__average': False,\n",
       " 'sgdclassifier__class_weight': None,\n",
       " 'sgdclassifier__early_stopping': False,\n",
       " 'sgdclassifier__epsilon': 0.1,\n",
       " 'sgdclassifier__eta0': 0.0,\n",
       " 'sgdclassifier__fit_intercept': True,\n",
       " 'sgdclassifier__l1_ratio': 0.15,\n",
       " 'sgdclassifier__learning_rate': 'optimal',\n",
       " 'sgdclassifier__loss': 'hinge',\n",
       " 'sgdclassifier__max_iter': 1000,\n",
       " 'sgdclassifier__n_iter_no_change': 5,\n",
       " 'sgdclassifier__n_jobs': None,\n",
       " 'sgdclassifier__penalty': 'l2',\n",
       " 'sgdclassifier__power_t': 0.5,\n",
       " 'sgdclassifier__random_state': None,\n",
       " 'sgdclassifier__shuffle': True,\n",
       " 'sgdclassifier__tol': 0.001,\n",
       " 'sgdclassifier__validation_fraction': 0.1,\n",
       " 'sgdclassifier__verbose': 0,\n",
       " 'sgdclassifier__warm_start': False}"
      ]
     },
     "execution_count": 14,
     "metadata": {},
     "output_type": "execute_result"
    }
   ],
   "source": [
    "SGD.get_params()"
   ]
  },
  {
   "cell_type": "code",
   "execution_count": null,
   "id": "bca43312-d91e-4c75-9495-97faa82c6c4c",
   "metadata": {},
   "outputs": [],
   "source": []
  }
 ],
 "metadata": {
  "environment": {
   "kernel": "python3",
   "name": "common-cpu.m89",
   "type": "gcloud",
   "uri": "gcr.io/deeplearning-platform-release/base-cpu:m89"
  },
  "kernelspec": {
   "display_name": "Python 3",
   "language": "python",
   "name": "python3"
  },
  "language_info": {
   "codemirror_mode": {
    "name": "ipython",
    "version": 3
   },
   "file_extension": ".py",
   "mimetype": "text/x-python",
   "name": "python",
   "nbconvert_exporter": "python",
   "pygments_lexer": "ipython3",
   "version": "3.7.12"
  }
 },
 "nbformat": 4,
 "nbformat_minor": 5
}
