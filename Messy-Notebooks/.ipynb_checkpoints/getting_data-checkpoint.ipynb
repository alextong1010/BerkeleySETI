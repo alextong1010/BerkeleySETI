{
 "cells": [
  {
   "cell_type": "code",
   "execution_count": 1,
   "id": "068c455a-1d91-4a75-b6db-c76a603e3c3b",
   "metadata": {},
   "outputs": [],
   "source": [
    "#import everything necessary\n",
    "import requests\n",
    "import numpy as np\n",
    "import pandas as pd\n",
    "import csv\n",
    "import glob\n",
    "import os\n",
    "import sys\n",
    "sys.path.append(\"../BerkeleySETI\")\n",
    "import data\n",
    "from data import loaders\n",
    "from bs4 import BeautifulSoup"
   ]
  },
  {
   "cell_type": "code",
   "execution_count": 2,
   "id": "cbed470a-dc9c-4fd9-8845-2469b36c8389",
   "metadata": {},
   "outputs": [
    {
     "name": "stdout",
     "output_type": "stream",
     "text": [
      "Disk mounted\n"
     ]
    }
   ],
   "source": [
    "#Mounting the data\n",
    "data_dir = \"/mnt/disks/lcs/\"\n",
    "data.mount_drive(data_dir)\n",
    "data_dir = \"/mnt/disks/lcs/tess-goddard-lcs/\""
   ]
  },
  {
   "cell_type": "markdown",
   "id": "db2845b2-2aa5-4562-88ea-54db1d9ff2aa",
   "metadata": {},
   "source": [
    "**Loading and Featurizing the Data**"
   ]
  },
  {
   "cell_type": "markdown",
   "id": "212b89f3-e0ed-4872-b40b-a9c3e3362937",
   "metadata": {},
   "source": [
    "This notebook will be dedicated to loading in and featuring the data necessary for this project. The EBs will be taken from the Villanova TESS EB dataset, which consists of (hopefully) all of the EBs that are in the two minute cadence list, while the NonEBs are taken by a stratified random sampling method, in which the two minute cadence list in each sector is a strata. At the time of creation (4-15-22), there is 8574 EBs in the Villanova dataset, and I took a sample of 5200 NonEBs."
   ]
  },
  {
   "cell_type": "markdown",
   "id": "0a930a40-87df-44b1-9eb9-d295a17faf21",
   "metadata": {},
   "source": [
    "Using BeautifulSoup, I wrote a webscraper that would scrape the 47 pages on the Villanova TESS EBs dataset, and put each TICID into array x."
   ]
  },
  {
   "cell_type": "code",
   "execution_count": 3,
   "id": "2c0ce95d-69fe-4f8d-964c-b6948c682482",
   "metadata": {
    "tags": []
   },
   "outputs": [],
   "source": [
    "x = np.empty((4584), dtype=int)\n",
    "index = 0\n",
    "for pages in range(1,47):\n",
    "    URL = f'http://tessebs.villanova.edu/?order_by=tic&page={pages}'\n",
    "    page = requests.get(URL)\n",
    "    soup = BeautifulSoup(page.content, \"html.parser\")\n",
    "    html = soup.find_all('a')\n",
    "    for t in html:\n",
    "        text = t.text.strip()\n",
    "        text = text.strip('0')\n",
    "        if (text.isnumeric()):\n",
    "            x[index] = text\n",
    "            index=index+1"
   ]
  },
  {
   "cell_type": "markdown",
   "id": "6830a99b-dbf1-4f22-aa67-e4610151cd3d",
   "metadata": {
    "tags": []
   },
   "source": [
    "Below, I printed out x as a reference."
   ]
  },
  {
   "cell_type": "code",
   "execution_count": null,
   "id": "ba2796e4-9d45-419d-9344-aa1e2ea024be",
   "metadata": {},
   "outputs": [
    {
     "data": {
      "text/plain": [
       "array([     91961,     101462,     120016, ..., 1992266045, 2003333263,\n",
       "       2046417955])"
      ]
     },
     "execution_count": 4,
     "metadata": {},
     "output_type": "execute_result"
    }
   ],
   "source": [
    "x"
   ]
  },
  {
   "cell_type": "markdown",
   "id": "c65391f9-2eba-416c-8f6c-24f02c85793e",
   "metadata": {},
   "source": [
    "I used the list of TICIDs, and checked each of the two minute cadence lists in the 26 lookup tables for the TICID, and saved each row that contained the TICIDs to a csv file. I then combined each files into one file, and added a column with the label of EBs."
   ]
  },
  {
   "cell_type": "code",
   "execution_count": null,
   "id": "e8173201-8baa-4d3e-b158-538dce8254b4",
   "metadata": {},
   "outputs": [],
   "source": [
    "for sec in range (1,27):\n",
    "    ref = pd.read_csv(data_dir+f\"sector{sec}lookup.csv\")\n",
    "    tmcl = [\"2_min_cadence\" in fn for fn in ref.Filename]\n",
    "    reftmcl = ref[tmcl]\n",
    "    z = reftmcl.TIC_ID.isin(x)\n",
    "    print(f\"sector {sec} done\")\n",
    "    reftmcl[z].to_csv(f'../BerkeleySETI/inputdata/tmclbysector/sector{sec}tmclebs.csv', index = False)"
   ]
  },
  {
   "cell_type": "code",
   "execution_count": null,
   "id": "2a358cd7-7b5e-4dd1-b452-6d4db284e402",
   "metadata": {},
   "outputs": [],
   "source": [
    "files = os.path.join(f'../BerkeleySETI/inputdata/tmcl_ebs_by_sector', 'sector*tmclebs.csv')\n",
    "files = glob.glob(files)\n",
    "df = pd.concat(map(pd.read_csv, files), ignore_index=True)\n",
    "df.to_csv(f'../BerkeleySETI/inputdata/allsectorstmclebs.csv', index = False)"
   ]
  },
  {
   "cell_type": "code",
   "execution_count": null,
   "id": "af457f52-3900-460e-b925-a629583824dc",
   "metadata": {},
   "outputs": [],
   "source": [
    "df2 = pd.read_csv(f'../BerkeleySETI/inputdata/allsectorstmclebs.csv')\n",
    "Label = ['EB'] * len(df)\n",
    "df2['Label'] = Label\n",
    "df2.to_csv(f'../BerkeleySETI/inputdata/allsectorstmclebs.csv', index = False)"
   ]
  },
  {
   "cell_type": "markdown",
   "id": "ddf945fe-7c86-4fa1-84d4-af231675bd1a",
   "metadata": {},
   "source": [
    "After that, I went through the lookup tables of the 26 sectors we have access to in tess-goddard-lcs, and took a SRS of 200 two minute cadence list light curves in each sector that is NOT a light curve from the Villanova dataset. Each SRS of 200 LCs are saved to the folder named tmcl_nonebs_by_sector."
   ]
  },
  {
   "cell_type": "code",
   "execution_count": 27,
   "id": "89d02161-8f3d-440a-8dff-45815b88a0a7",
   "metadata": {},
   "outputs": [],
   "source": [
    "for sec in range (1,27):\n",
    "    ref = pd.read_csv(data_dir+f\"sector1lookup.csv\")\n",
    "    tmcl = [\"2_min_cadence\" in fn for fn in ref.Filename]\n",
    "    reftmcl = ref[tmcl]\n",
    "    z = ~reftmcl.TIC_ID.isin(x)\n",
    "    nonebs = reftmcl[z].sample(n = 200)\n",
    "    nonebs.to_csv(f'../BerkeleySETI/inputdata/tmcl_nonebs_by_sector/sector{sec}tmclnonebs.csv', index = False)"
   ]
  },
  {
   "cell_type": "code",
   "execution_count": 28,
   "id": "ace4eadc-b8d6-42cf-a9f8-b1c1fff1c6c6",
   "metadata": {},
   "outputs": [],
   "source": [
    "#Combined the individual files into allsectorstmclnonebs.csv\n",
    "files = os.path.join(f'../BerkeleySETI/inputdata/tmcl_nonebs_by_sector', 'sector*tmclnonebs.csv')\n",
    "files = glob.glob(files)\n",
    "df3 = pd.concat(map(pd.read_csv, files), ignore_index=True)\n",
    "df3.to_csv(f'../BerkeleySETI/inputdata/allsectorstmclnonebs.csv', index = False)"
   ]
  },
  {
   "cell_type": "markdown",
   "id": "7861436a-28d5-48f7-a83c-855bf8c29a96",
   "metadata": {},
   "source": [
    "Below, I added a NonEBs label for each row in this dataset."
   ]
  },
  {
   "cell_type": "code",
   "execution_count": 29,
   "id": "84aa9d1c-dafb-4246-bffd-333e47f1693f",
   "metadata": {},
   "outputs": [],
   "source": [
    "df4 = pd.read_csv(f'../BerkeleySETI/inputdata/allsectorstmclnonebs.csv')\n",
    "Label = ['NonEB'] * len(df3)\n",
    "df4['Label'] = Label\n",
    "df4.to_csv(f'../BerkeleySETI/inputdata/allsectorstmclnonebs.csv', index = False)"
   ]
  },
  {
   "cell_type": "markdown",
   "id": "813c3bde-59c9-42c7-ac5e-27d171a073f9",
   "metadata": {},
   "source": [
    "Finally, I combined the EBs and NonEBs list to get my final input data."
   ]
  },
  {
   "cell_type": "code",
   "execution_count": 30,
   "id": "f8e5e3f0-d035-4b7c-80f8-33ca653b5f04",
   "metadata": {},
   "outputs": [],
   "source": [
    "files = os.path.join(f'../BerkeleySETI/inputdata', 'allsectorstmcl*.csv')\n",
    "files = glob.glob(files)\n",
    "df5 = pd.concat(map(pd.read_csv, files), ignore_index=True)\n",
    "df5.to_csv(f'../BerkeleySETI/inputdata/fulldataset.csv', index = False)"
   ]
  },
  {
   "cell_type": "code",
   "execution_count": null,
   "id": "a83d7d14-f653-4ce2-8da8-b2aa330c7cb8",
   "metadata": {},
   "outputs": [],
   "source": []
  },
  {
   "cell_type": "code",
   "execution_count": null,
   "id": "f2b51244-5c79-45bc-87a6-999ec100b024",
   "metadata": {},
   "outputs": [],
   "source": []
  }
 ],
 "metadata": {
  "environment": {
   "kernel": "python3",
   "name": "common-cpu.m89",
   "type": "gcloud",
   "uri": "gcr.io/deeplearning-platform-release/base-cpu:m89"
  },
  "kernelspec": {
   "display_name": "Python 3",
   "language": "python",
   "name": "python3"
  },
  "language_info": {
   "codemirror_mode": {
    "name": "ipython",
    "version": 3
   },
   "file_extension": ".py",
   "mimetype": "text/x-python",
   "name": "python",
   "nbconvert_exporter": "python",
   "pygments_lexer": "ipython3",
   "version": "3.7.12"
  }
 },
 "nbformat": 4,
 "nbformat_minor": 5
}
