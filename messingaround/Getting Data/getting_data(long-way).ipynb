{
 "cells": [
  {
   "cell_type": "code",
   "execution_count": 69,
   "id": "c7be4b35-fc37-4c9f-98c8-151ab7c6771d",
   "metadata": {},
   "outputs": [
    {
     "name": "stdout",
     "output_type": "stream",
     "text": [
      "Disk mounted\n"
     ]
    },
    {
     "name": "stderr",
     "output_type": "stream",
     "text": [
      "mount: /mnt/disks/lcs: /dev/sdc already mounted on /mnt/disks/lcs.\n"
     ]
    }
   ],
   "source": [
    "import requests\n",
    "import numpy as np\n",
    "import pandas as pd\n",
    "import csv\n",
    "import glob\n",
    "import os\n",
    "import sys\n",
    "sys.path.append(\"../ML\")\n",
    "import data\n",
    "from data import loaders\n",
    "from bs4 import BeautifulSoup\n",
    "\n",
    "data_dir = \"/mnt/disks/lcs/\"\n",
    "data.mount_drive(data_dir)\n",
    "data_dir = \"/mnt/disks/lcs/tess-goddard-lcs/\""
   ]
  },
  {
   "cell_type": "code",
   "execution_count": 20,
   "id": "e4ba9c6e-c2c2-41b7-a708-20f0742a7920",
   "metadata": {
    "tags": []
   },
   "outputs": [],
   "source": [
    "x = np.empty((4584,2), dtype='object')\n",
    "index = 0\n",
    "for pages in range(1,47):\n",
    "    URL = f'http://tessebs.villanova.edu/?order_by=tic&page={pages}'\n",
    "    page = requests.get(URL)\n",
    "    soup = BeautifulSoup(page.content, \"html.parser\")\n",
    "    html = soup.find_all('td')\n",
    "    for t in html:\n",
    "        text = t.text.strip()\n",
    "        if (index%9==0 or index%9==1):\n",
    "            x[int(index/9)][index%9]=text\n",
    "        index=index+1"
   ]
  },
  {
   "cell_type": "code",
   "execution_count": 21,
   "id": "d2c80a3f-d154-4a13-8662-b66f2e6a4ed4",
   "metadata": {},
   "outputs": [
    {
     "name": "stdout",
     "output_type": "stream",
     "text": [
      "[['0000091961' '11']\n",
      " ['0000101462' '4, 11']\n",
      " ['0000120016' '11']\n",
      " ...\n",
      " ['1992266045' '28']\n",
      " ['2003333263' '15, 16']\n",
      " ['2046417955' '16, 17']]\n"
     ]
    }
   ],
   "source": [
    "print(x)\n",
    "#num_columns = np.shape(x)[1]"
   ]
  },
  {
   "cell_type": "code",
   "execution_count": null,
   "id": "a82a3fd7-a89b-47ed-9ec9-b5360bb8efa5",
   "metadata": {},
   "outputs": [],
   "source": [
    "with open('../ML/ebs.csv', 'w') as f:\n",
    "    writer = csv.writer(f)\n",
    "    header = ['Filename', 'RA', 'Dec', 'TIC_ID', 'Sector', 'Camera', 'CCD', 'Magnitude']\n",
    "    writer.writerow(header)\n",
    "    for ticid in range(0,int(x.size/num_columns)):\n",
    "        print(ticid)\n",
    "        s = x[ticid][1]\n",
    "        sec = s.split(\",\")\n",
    "        loop = 0\n",
    "        for sectors in sec:\n",
    "            if (s == ''):        \n",
    "                print('No sector given')\n",
    "                break\n",
    "            if (int(sec[loop])>26):\n",
    "                print(f'Given sector {int(sec[loop])} is greater than sector 26')\n",
    "                break\n",
    "            print(\"sector \" + str(int(sec[loop])))\n",
    "            ref = pd.read_csv(data_dir+f\"sector{int(sec[loop])}lookup.csv\")\n",
    "            tmcl = [\"2_min_cadence\" in fn for fn in ref.Filename]\n",
    "            reftmcl = ref[tmcl]\n",
    "            t = x[ticid][0]\n",
    "            tic = t.strip('0')\n",
    "            tic = tic.strip()\n",
    "            row = reftmcl[reftmcl.TIC_ID.isin([int(tic)])]\n",
    "            if not (row.empty):\n",
    "                list = [row.Filename.item(), row.RA.item(), row.Dec.item(), \n",
    "                row.TIC_ID.item(), row.Sector.item(), row.Camera.item(), \n",
    "                row.CCD.item(), row.Magnitude.item()]\n",
    "                writer.writerow(list)\n",
    "                #count = count+1\n",
    "                break\n",
    "            loop = loop +1"
   ]
  },
  {
   "cell_type": "code",
   "execution_count": null,
   "id": "b4d4dd0b-d59b-411d-9061-e74b29cb6268",
   "metadata": {
    "tags": []
   },
   "outputs": [],
   "source": []
  },
  {
   "cell_type": "code",
   "execution_count": null,
   "id": "666929de-707e-41c1-b401-896b8441396f",
   "metadata": {},
   "outputs": [],
   "source": []
  },
  {
   "cell_type": "code",
   "execution_count": 36,
   "id": "460a2234-ca35-4cf0-9da5-dc9b0edb69b7",
   "metadata": {},
   "outputs": [],
   "source": []
  },
  {
   "cell_type": "code",
   "execution_count": 57,
   "id": "c152f805-606f-41b5-b946-69e6b992a685",
   "metadata": {
    "tags": []
   },
   "outputs": [],
   "source": [
    "x = np.empty((4584), dtype=int)\n",
    "index = 0\n",
    "for pages in range(1,47):\n",
    "    URL = f'http://tessebs.villanova.edu/?order_by=tic&page={pages}'\n",
    "    page = requests.get(URL)\n",
    "    soup = BeautifulSoup(page.content, \"html.parser\")\n",
    "    html = soup.find_all('a')\n",
    "    for t in html:\n",
    "        text = t.text.strip()\n",
    "        text = text.strip('0')\n",
    "        if (text.isnumeric()):\n",
    "            x[index] = text\n",
    "            index=index+1"
   ]
  },
  {
   "cell_type": "code",
   "execution_count": 58,
   "id": "71c8d3dc-e490-4a39-aa88-72ffddeb892d",
   "metadata": {},
   "outputs": [
    {
     "name": "stdout",
     "output_type": "stream",
     "text": [
      "[     91961     101462     120016 ... 1992266045 2003333263 2046417955]\n"
     ]
    }
   ],
   "source": [
    "print(x)"
   ]
  },
  {
   "cell_type": "code",
   "execution_count": 46,
   "id": "601d14c6-157f-4041-80e2-7797bd3c9c31",
   "metadata": {},
   "outputs": [],
   "source": []
  },
  {
   "cell_type": "code",
   "execution_count": 43,
   "id": "ba2796e4-9d45-419d-9344-aa1e2ea024be",
   "metadata": {},
   "outputs": [],
   "source": []
  },
  {
   "cell_type": "code",
   "execution_count": 68,
   "id": "9c9fbfdc-e6a8-4895-a98a-c54c14c78a9c",
   "metadata": {},
   "outputs": [
    {
     "name": "stdout",
     "output_type": "stream",
     "text": [
      "sector 1 done\n",
      "sector 2 done\n",
      "sector 3 done\n",
      "sector 4 done\n",
      "sector 5 done\n",
      "sector 6 done\n",
      "sector 7 done\n",
      "sector 8 done\n",
      "sector 9 done\n",
      "sector 10 done\n",
      "sector 11 done\n",
      "sector 12 done\n",
      "sector 13 done\n",
      "sector 14 done\n",
      "sector 15 done\n",
      "sector 16 done\n",
      "sector 17 done\n",
      "sector 18 done\n",
      "sector 19 done\n",
      "sector 20 done\n",
      "sector 21 done\n",
      "sector 22 done\n",
      "sector 23 done\n",
      "sector 24 done\n",
      "sector 25 done\n",
      "sector 26 done\n"
     ]
    }
   ],
   "source": [
    "for sec in range (1,27):\n",
    "    ref = pd.read_csv(data_dir+f\"sector{sec}lookup.csv\")\n",
    "    tmcl = [\"2_min_cadence\" in fn for fn in ref.Filename]\n",
    "    reftmcl = ref[tmcl]\n",
    "    z = reftmcl.TIC_ID.isin(x)\n",
    "    print(f\"sector {sec} done\")\n",
    "    reftmcl[z].to_csv(f'../ML/inputdata/tmclbysector/sector{sec}tmclebs.csv', index = False)"
   ]
  },
  {
   "cell_type": "code",
   "execution_count": 74,
   "id": "090c35ea-770a-4e0c-9514-127b0e9a6e94",
   "metadata": {},
   "outputs": [],
   "source": [
    "files = os.path.join(f'../ML/inputdata/tmclbysector', 'sector*tmclebs.csv')\n",
    "files = glob.glob(files)\n",
    "df = pd.concat(map(pd.read_csv, files), ignore_index=True)\n",
    "df.to_csv(f'../ML/inputdata/allsectortmclebs.csv', index = False)"
   ]
  },
  {
   "cell_type": "code",
   "execution_count": null,
   "id": "a34692ee-0dc7-4935-a709-afd260dabd51",
   "metadata": {},
   "outputs": [],
   "source": []
  }
 ],
 "metadata": {
  "environment": {
   "kernel": "python3",
   "name": "common-cpu.m89",
   "type": "gcloud",
   "uri": "gcr.io/deeplearning-platform-release/base-cpu:m89"
  },
  "kernelspec": {
   "display_name": "Python 3",
   "language": "python",
   "name": "python3"
  },
  "language_info": {
   "codemirror_mode": {
    "name": "ipython",
    "version": 3
   },
   "file_extension": ".py",
   "mimetype": "text/x-python",
   "name": "python",
   "nbconvert_exporter": "python",
   "pygments_lexer": "ipython3",
   "version": "3.7.12"
  }
 },
 "nbformat": 4,
 "nbformat_minor": 5
}
