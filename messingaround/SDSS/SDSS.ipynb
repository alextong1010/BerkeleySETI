{
 "cells": [
  {
   "cell_type": "code",
   "execution_count": 2,
   "id": "53d2b9db-5535-430c-85d2-21eb3308d3d4",
   "metadata": {},
   "outputs": [],
   "source": [
    "import numpy as np\n",
    "import pandas as pd\n",
    "import seaborn as sns\n",
    "import matplotlib.pyplot as plt\n",
    "%matplotlib inline"
   ]
  },
  {
   "cell_type": "code",
   "execution_count": 5,
   "id": "130aab80-64c5-4839-889a-be20452b2791",
   "metadata": {},
   "outputs": [
    {
     "name": "stdout",
     "output_type": "stream",
     "text": [
      "       psfMag_r  fiberMag_r  fiber2Mag_r  petroMag_r  deVMag_r  expMag_r  \\\n",
      "0      18.50319    18.65275     19.33509    17.54539  17.31526  17.58132   \n",
      "1      19.02659    19.32441     19.80892    19.05827  19.03468  19.03111   \n",
      "2      19.88090    19.77895     20.46623    19.35340  19.18640  19.35493   \n",
      "3      22.03563    22.06141     22.68416    21.51795  21.03554  21.31751   \n",
      "4      21.56726    21.57312     22.22178    20.45830  19.93309  20.39825   \n",
      "...         ...         ...          ...         ...       ...       ...   \n",
      "19995  21.57356    21.80298     22.35649    20.99044  20.88355  21.20975   \n",
      "19996  21.68919    21.87613     22.46473    20.89817  20.64549  21.05897   \n",
      "19997  21.22554    21.35892     21.96298    20.31707  20.09781  20.46114   \n",
      "19998  18.13591    18.49232     18.97856    18.17947  18.12960  18.12960   \n",
      "19999  18.79699    19.16370     19.64544    18.83228  18.80138  18.80138   \n",
      "\n",
      "       modelMag_r  cModelMag_r   class  \n",
      "0        17.58132     17.48715  GALAXY  \n",
      "1        19.03111     19.03111    STAR  \n",
      "2        19.35493     19.24559  GALAXY  \n",
      "3        21.31751     21.31751  GALAXY  \n",
      "4        20.39819     20.20402  GALAXY  \n",
      "...           ...          ...     ...  \n",
      "19995    20.88355     20.88355  GALAXY  \n",
      "19996    20.64548     20.64549  GALAXY  \n",
      "19997    20.09781     20.09781  GALAXY  \n",
      "19998    18.12960     18.12960    STAR  \n",
      "19999    18.80138     18.80138    STAR  \n",
      "\n",
      "[20000 rows x 9 columns]\n"
     ]
    }
   ],
   "source": [
    "sdss_df = pd.read_hdf(\"sdss_training_set.h5\")\n",
    "print(sdss_df)\n",
    "#sns.pairplot(sdss_df, hue = 'class', diag_kind = 'hist')"
   ]
  },
  {
   "cell_type": "code",
   "execution_count": 5,
   "id": "cda5cc61-e9a9-408d-8dcf-6059b481f031",
   "metadata": {},
   "outputs": [],
   "source": [
    "from sklearn.model_selection import train_test_split\n",
    "rs = 1851\n",
    "\n",
    "feats = list(sdss_df.columns)\n",
    "feats.remove('class')\n",
    "\n",
    "X = np.array(sdss_df[feats])\n",
    "y = np.array(sdss_df['class'])\n",
    "\n",
    "train_X, test_X, train_y, test_y = train_test_split( X, y, test_size = 0.3, random_state = rs)"
   ]
  },
  {
   "cell_type": "code",
   "execution_count": 6,
   "id": "abb5e25d-c9cf-4872-8c57-042e9410dda0",
   "metadata": {},
   "outputs": [
    {
     "data": {
      "text/plain": [
       "KNeighborsClassifier(n_neighbors=25)"
      ]
     },
     "execution_count": 6,
     "metadata": {},
     "output_type": "execute_result"
    }
   ],
   "source": [
    "from sklearn.neighbors import KNeighborsClassifier\n",
    "\n",
    "knn_clf = KNeighborsClassifier(n_neighbors=25)\n",
    "knn_clf.fit(train_X, train_y)"
   ]
  },
  {
   "cell_type": "code",
   "execution_count": 7,
   "id": "61623e72-049a-4c2a-a297-dac49435ab1e",
   "metadata": {},
   "outputs": [
    {
     "data": {
      "text/plain": [
       "RandomForestClassifier(n_estimators=50, n_jobs=-1, random_state=1851)"
      ]
     },
     "execution_count": 7,
     "metadata": {},
     "output_type": "execute_result"
    }
   ],
   "source": [
    "from sklearn.ensemble import RandomForestClassifier\n",
    "\n",
    "rf_clf = RandomForestClassifier(n_estimators=50, random_state=rs, n_jobs=-1)\n",
    "rf_clf.fit(train_X, train_y)"
   ]
  },
  {
   "cell_type": "code",
   "execution_count": 8,
   "id": "4f62163d-6052-4fb1-9244-f128eff49de4",
   "metadata": {},
   "outputs": [
    {
     "name": "stdout",
     "output_type": "stream",
     "text": [
      "From most to least important: \n",
      "psfMag_r,\n",
      "fiber2Mag_r,\n",
      "deVMag_r,\n",
      "fiberMag_r,\n",
      "petroMag_r,\n",
      "modelMag_r,\n",
      "cModelMag_r,\n",
      "expMag_r\n"
     ]
    }
   ],
   "source": [
    "feat_str = ',\\n'.join(['{}'.format(feat) for feat in np.array(feats)[np.argsort(rf_clf.feature_importances_)[::-1]]])\n",
    "\n",
    "print('From most to least important: \\n{}'.format(feat_str))"
   ]
  },
  {
   "cell_type": "code",
   "execution_count": 9,
   "id": "bd917230-4354-460d-851d-b7294dfe4417",
   "metadata": {},
   "outputs": [
    {
     "name": "stdout",
     "output_type": "stream",
     "text": [
      "The baseline FoM = 0.9672\n"
     ]
    }
   ],
   "source": [
    "from sklearn.metrics import accuracy_score\n",
    "\n",
    "phot_y = np.empty_like(train_y)\n",
    "phot_gal = np.logical_not(train_X[:,0] - train_X[:,-1] < 0.145)\n",
    "phot_y[phot_gal] = 'GALAXY'\n",
    "phot_y[~phot_gal] = 'STAR'\n",
    "\n",
    "print(\"The baseline FoM = {:.4f}\".format(accuracy_score(train_y, phot_y)))"
   ]
  },
  {
   "cell_type": "code",
   "execution_count": 10,
   "id": "a6afc405-fbf1-411a-8e30-1c0830f6ab41",
   "metadata": {},
   "outputs": [
    {
     "name": "stdout",
     "output_type": "stream",
     "text": [
      "The kNN model FoM = 0.9707 +/- 0.0031\n"
     ]
    }
   ],
   "source": [
    "from sklearn.model_selection import cross_val_score\n",
    "\n",
    "knn_cv = cross_val_score(knn_clf, train_X, train_y, cv=10)\n",
    "\n",
    "print('The kNN model FoM = {:.4f} +/- {:.4f}'.format(np.mean(knn_cv), np.std(knn_cv, ddof=1)))"
   ]
  },
  {
   "cell_type": "code",
   "execution_count": 11,
   "id": "f7b51f63-6d70-4f90-95f9-df01061877fb",
   "metadata": {},
   "outputs": [
    {
     "name": "stdout",
     "output_type": "stream",
     "text": [
      "The RF model FoM = 0.9713 +/- 0.0031\n"
     ]
    }
   ],
   "source": [
    "rf_cv = cross_val_score(rf_clf, train_X, train_y, cv=10)\n",
    "\n",
    "print('The RF model FoM = {:.4f} +/- {:.4f}'.format(np.mean(rf_cv), np.std(rf_cv, ddof=1)))"
   ]
  },
  {
   "cell_type": "code",
   "execution_count": 12,
   "id": "ea8c298e-4155-4946-91d1-3485b07c7c28",
   "metadata": {},
   "outputs": [
    {
     "name": "stdout",
     "output_type": "stream",
     "text": [
      "With k = 1, the kNN FoM = 0.9595 +/- 0.0055\n",
      "With k = 10, the kNN FoM = 0.9720 +/- 0.0033\n",
      "With k = 100, the kNN FoM = 0.9676 +/- 0.0047\n"
     ]
    }
   ],
   "source": [
    "for k in [1,10,100]:\n",
    "    knn_cv = cross_val_score(KNeighborsClassifier(n_neighbors=k), train_X, train_y, cv=10)\n",
    "\n",
    "    print('With k = {:d}, the kNN FoM = {:.4f} +/- {:.4f}'.format(k, np.mean(knn_cv), np.std(knn_cv, ddof=1)))"
   ]
  },
  {
   "cell_type": "code",
   "execution_count": 13,
   "id": "a044dc16-12a4-44ba-a7ed-e1e1f9431d44",
   "metadata": {},
   "outputs": [
    {
     "name": "stdout",
     "output_type": "stream",
     "text": [
      "With 1 trees the FoM = 0.9502 +/- 0.0064\n",
      "With 10 trees the FoM = 0.9689 +/- 0.0027\n",
      "With 30 trees the FoM = 0.9707 +/- 0.0033\n",
      "With 100 trees the FoM = 0.9711 +/- 0.0025\n",
      "With 300 trees the FoM = 0.9716 +/- 0.0023\n"
     ]
    }
   ],
   "source": [
    "for ntree in [1,10,30,100,300]:    \n",
    "    rf_cv = cross_val_score(RandomForestClassifier(n_estimators=ntree), train_X, train_y, cv=10)\n",
    "\n",
    "    print('With {:d} trees the FoM = {:.4f} +/- {:.4f}'.format(ntree, np.mean(rf_cv), np.std(rf_cv, ddof=1)))\n",
    "    "
   ]
  },
  {
   "cell_type": "code",
   "execution_count": 14,
   "id": "66874b62-9b7f-4fe2-8871-462ddfdfb02f",
   "metadata": {},
   "outputs": [
    {
     "name": "stdout",
     "output_type": "stream",
     "text": [
      "The baseline FoM = 0.9615\n"
     ]
    }
   ],
   "source": [
    "phot_y = np.empty_like(test_y)\n",
    "phot_gal = np.logical_not(test_X[:,0] - test_X[:,-1] < 0.145)\n",
    "phot_y[phot_gal] = 'GALAXY'\n",
    "phot_y[~phot_gal] = 'STAR'\n",
    "\n",
    "print(\"The baseline FoM = {:.4f}\".format(accuracy_score(test_y, phot_y)))"
   ]
  },
  {
   "cell_type": "code",
   "execution_count": 15,
   "id": "35cbd16a-9799-49b1-b756-0c5fc58a4627",
   "metadata": {},
   "outputs": [
    {
     "name": "stdout",
     "output_type": "stream",
     "text": [
      "The RF model has FoM = 0.9665\n"
     ]
    }
   ],
   "source": [
    "rf_clf = RandomForestClassifier(n_estimators=300, n_jobs=-1)\n",
    "rf_clf.fit(train_X, train_y)\n",
    "test_preds = rf_clf.predict(test_X)\n",
    "\n",
    "print(\"The RF model has FoM = {:.4f}\".format(accuracy_score(test_y, test_preds)))"
   ]
  },
  {
   "cell_type": "code",
   "execution_count": 16,
   "id": "ea9727ae-e9eb-44de-962e-884f8eafe9c6",
   "metadata": {},
   "outputs": [
    {
     "name": "stdout",
     "output_type": "stream",
     "text": [
      "[[3322  111]\n",
      " [  90 2477]]\n"
     ]
    }
   ],
   "source": [
    "from sklearn.metrics import confusion_matrix\n",
    "\n",
    "print(confusion_matrix(test_y, test_preds))"
   ]
  },
  {
   "cell_type": "code",
   "execution_count": 18,
   "id": "d0c40ea8-0129-4f64-9f98-36928896663d",
   "metadata": {},
   "outputs": [
    {
     "data": {
      "text/plain": [
       "(0.3, 1.0)"
      ]
     },
     "execution_count": 18,
     "metadata": {},
     "output_type": "execute_result"
    },
    {
     "data": {
      "image/png": "[encoded data removed]",
      "text/plain": [
       "<Figure size 432x288 with 1 Axes>"
      ]
     },
     "metadata": {
      "needs_background": "light"
     },
     "output_type": "display_data"
    }
   ],
   "source": [
    "from sklearn.metrics import roc_curve\n",
    "\n",
    "test_y_int = np.ones_like(test_y, dtype=int)\n",
    "test_y_int[np.where(test_y == 'GALAXY')] = 0\n",
    "\n",
    "test_preds_proba = rf_clf.predict_proba(test_X)\n",
    "\n",
    "fpr, tpr, thresh = roc_curve(test_y_int, test_preds_proba[:,1])\n",
    "\n",
    "fig, ax = plt.subplots()\n",
    "ax.plot(fpr, tpr)\n",
    "ax.set_xlabel('FPR')\n",
    "ax.set_ylabel('TPR')\n",
    "ax.set_xlim(2e-3,.2)\n",
    "ax.set_ylim(0.3,1)"
   ]
  },
  {
   "cell_type": "code",
   "execution_count": 19,
   "id": "6ec1973b-e60c-4149-b4ae-159241f05774",
   "metadata": {},
   "outputs": [
    {
     "name": "stdout",
     "output_type": "stream",
     "text": [
      "This model requires a classification threshold of 0.0400\n",
      "This model misclassifies 16.02% of galaxies\n"
     ]
    }
   ],
   "source": [
    "tpr_99_thresh = thresh[np.argmin(np.abs(0.99 - tpr))]\n",
    "\n",
    "print('This model requires a classification threshold of {:.4f}'.format(tpr_99_thresh))\n",
    "\n",
    "fpr_at_tpr_99 = fpr[np.argmin(np.abs(0.99 - tpr))]\n",
    "\n",
    "print('This model misclassifies {:.2f}% of galaxies'.format(fpr_at_tpr_99*100))"
   ]
  },
  {
   "cell_type": "code",
   "execution_count": 20,
   "id": "3ca5ea92-13da-4973-be8b-848a0e512c50",
   "metadata": {},
   "outputs": [],
   "source": [
    "new_data_df = pd.read_hdf(\"blind_test_set.h5\")"
   ]
  },
  {
   "cell_type": "code",
   "execution_count": 21,
   "id": "a8edc5de-0894-4b07-b795-2ceb85395431",
   "metadata": {},
   "outputs": [],
   "source": [
    "new_X = np.array(new_data_df[feats])\n",
    "new_y = np.array(new_data_df['class'])"
   ]
  },
  {
   "cell_type": "code",
   "execution_count": 22,
   "id": "10c8283b-f60e-43dc-bf7f-9a9e6dc3cd3c",
   "metadata": {},
   "outputs": [
    {
     "name": "stdout",
     "output_type": "stream",
     "text": [
      "The model has an accuracy of 0.7982\n"
     ]
    }
   ],
   "source": [
    "new_preds = rf_clf.predict(new_X)\n",
    "print(\"The model has an accuracy of {:.4f}\".format(accuracy_score(new_y, new_preds)))"
   ]
  },
  {
   "cell_type": "code",
   "execution_count": 24,
   "id": "ccd4455b-eb8e-4d48-90da-e4f2358696b8",
   "metadata": {},
   "outputs": [],
   "source": [
    "trainnew_X, testnew_X, trainnew_y, testnew_y = train_test_split(new_X, new_y, test_size = 0.3, random_state = rs)"
   ]
  },
  {
   "cell_type": "code",
   "execution_count": 27,
   "id": "e62ab89e-894d-4d23-8dfc-22eaeeefb054",
   "metadata": {},
   "outputs": [
    {
     "data": {
      "text/plain": [
       "KNeighborsClassifier(n_neighbors=25)"
      ]
     },
     "execution_count": 27,
     "metadata": {},
     "output_type": "execute_result"
    }
   ],
   "source": [
    "knn_clf = KNeighborsClassifier(n_neighbors=25)\n",
    "knn_clf.fit(trainnew_X, trainnew_y)"
   ]
  },
  {
   "cell_type": "code",
   "execution_count": 28,
   "id": "b6b53608-48d0-4cd7-a3f3-c8023ff6513e",
   "metadata": {},
   "outputs": [
    {
     "data": {
      "text/plain": [
       "RandomForestClassifier(n_estimators=50, n_jobs=-1, random_state=1851)"
      ]
     },
     "execution_count": 28,
     "metadata": {},
     "output_type": "execute_result"
    }
   ],
   "source": [
    "rf_clf = RandomForestClassifier(n_estimators=50, random_state=rs, n_jobs=-1)\n",
    "rf_clf.fit(trainnew_X, trainnew_y)"
   ]
  },
  {
   "cell_type": "code",
   "execution_count": 29,
   "id": "3229038a-ced1-46d3-86ba-c8f6e52817f5",
   "metadata": {},
   "outputs": [
    {
     "name": "stdout",
     "output_type": "stream",
     "text": [
      "The kNN model FoM = 0.9054 +/- 0.0068\n"
     ]
    }
   ],
   "source": [
    "knn_cv = cross_val_score(knn_clf, trainnew_X, trainnew_y, cv=10)\n",
    "\n",
    "print('The kNN model FoM = {:.4f} +/- {:.4f}'.format(np.mean(knn_cv), np.std(knn_cv, ddof=1)))"
   ]
  },
  {
   "cell_type": "code",
   "execution_count": 30,
   "id": "79fec54a-a06a-4d68-81a0-aac1fb5aa3f1",
   "metadata": {},
   "outputs": [
    {
     "name": "stdout",
     "output_type": "stream",
     "text": [
      "The RF model has FoM = 0.5755\n"
     ]
    }
   ],
   "source": [
    "test_preds = rf_clf.predict(test_X)\n",
    "\n",
    "print(\"The RF model has FoM = {:.4f}\".format(accuracy_score(test_y, test_preds)))"
   ]
  },
  {
   "cell_type": "code",
   "execution_count": null,
   "id": "ad6c44d4-1795-40d6-b3d8-b4983fe38970",
   "metadata": {},
   "outputs": [],
   "source": []
  }
 ],
 "metadata": {
  "environment": {
   "kernel": "python3",
   "name": "common-cpu.m89",
   "type": "gcloud",
   "uri": "gcr.io/deeplearning-platform-release/base-cpu:m89"
  },
  "kernelspec": {
   "display_name": "Python 3",
   "language": "python",
   "name": "python3"
  },
  "language_info": {
   "codemirror_mode": {
    "name": "ipython",
    "version": 3
   },
   "file_extension": ".py",
   "mimetype": "text/x-python",
   "name": "python",
   "nbconvert_exporter": "python",
   "pygments_lexer": "ipython3",
   "version": "3.7.12"
  }
 },
 "nbformat": 4,
 "nbformat_minor": 5
}
