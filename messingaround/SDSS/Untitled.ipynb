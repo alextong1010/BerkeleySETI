{
 "cells": [
  {
   "cell_type": "code",
   "execution_count": 30,
   "id": "afc54b8e-4bdc-4ef3-b557-7e48ac2c2c6d",
   "metadata": {},
   "outputs": [],
   "source": [
    "import numpy as np\n",
    "x = np.array([[[1],[2],[3]], [[4],[5],[6]]])\n",
    "x.shape\n",
    "X=x[:]\n"
   ]
  },
  {
   "cell_type": "code",
   "execution_count": 35,
   "id": "d61951aa-2784-4291-9add-0a3b29bd9ff5",
   "metadata": {},
   "outputs": [],
   "source": [
    "y = np.array([[[1],[2],[3]], [[4],[5],[6]]])\n",
    "y.shape\n",
    "Y=y[:,-1]"
   ]
  },
  {
   "cell_type": "code",
   "execution_count": 36,
   "id": "74bc7b61-8e55-4029-9520-a8e3c6867fd5",
   "metadata": {},
   "outputs": [
    {
     "name": "stdout",
     "output_type": "stream",
     "text": [
      "(2, 3, 1) (2, 1)\n"
     ]
    }
   ],
   "source": [
    "print(X.shape, Y.shape)"
   ]
  },
  {
   "cell_type": "code",
   "execution_count": 37,
   "id": "f7ecba32-98f8-4901-8d7e-33120254e80d",
   "metadata": {},
   "outputs": [
    {
     "name": "stdout",
     "output_type": "stream",
     "text": [
      "Disk mounted\n"
     ]
    }
   ],
   "source": [
    "#import and set up everything\n",
    "import pandas as pd\n",
    "import numpy as np\n",
    "import sys\n",
    "sys.path.append(\"../PhaseFold\")\n",
    "import os\n",
    "import data\n",
    "from data import loaders\n",
    "import lightkurve as lk\n",
    "import scipy.signal\n",
    "import matplotlib.pyplot as plt\n",
    "import math\n",
    "from PIL import Image\n",
    "import warnings\n",
    "\n",
    "warnings.filterwarnings(\"ignore\", category=RuntimeWarning) \n",
    "\n",
    "%load_ext autoreload\n",
    "%autoreload 2\n",
    "%matplotlib inline\n",
    "\n",
    "\n",
    "# Mounting data\n",
    "data_dir = \"/mnt/disks/lcs/\"\n",
    "data.mount_drive(data_dir)\n",
    "data_dir = \"/mnt/disks/lcs/tess-goddard-lcs/\""
   ]
  },
  {
   "cell_type": "code",
   "execution_count": 38,
   "id": "c1e46108-68d5-4035-bed9-1dff302f05d3",
   "metadata": {},
   "outputs": [
    {
     "name": "stdout",
     "output_type": "stream",
     "text": [
      "       time               flux             flux_err      quality\n",
      "                                                                \n",
      "------------------ ------------------ ------------------ -------\n",
      " 1354.118913914186 145.15737604404362 0.7312338824141444     160\n",
      "1354.1397476650388 144.34267637666568 0.7308658325788876       0\n",
      " 1354.160581417232  144.1898504014872 0.7306014534586863       0\n",
      "1354.1814151707244  144.7939153783032 0.7300933269330003       0\n",
      "1354.2022489254437  137.2646482638577 0.7264102128358348       0\n",
      " 1354.223082681291 104.29985336626267 0.7086892416865062       0\n",
      " 1354.243916438138  129.2426602057832 0.7220113371480087       0\n",
      "1354.2647501958306  145.7793406835711 0.7298592887064753       0\n",
      " 1354.285583954195   147.364338285279 0.7308910495758119       0\n",
      "1354.3064177130364 148.60587948387948 0.7314461361265918       0\n",
      "               ...                ...                ...     ...\n",
      "1381.3065479690254  144.5180746438976 0.8412449664130557       0\n",
      "1381.3273810969933 145.09181401822954 0.8387900581149886       0\n",
      "1381.3482142241419 128.37017215903273 0.8290808181630585       0\n",
      " 1381.369047350241 122.35880523582586 0.8239442009379834       0\n",
      "1381.3898804750672 145.77231175655638 0.8317755521796507       0\n",
      "1381.4107135984145  145.2397937705172 0.8293108825297629       0\n",
      "1381.4315467200934 145.57441417085107  0.827401291135163       0\n",
      " 1381.452379839931 145.84824185135327 0.8249853253671344       0\n",
      "1381.4732129577808 147.90703110071323 0.8233660190486463       0\n",
      "1381.4940460735227 146.04738007852833 0.8211152647464747       0\n",
      "Length = 1245 rows\n"
     ]
    }
   ],
   "source": [
    "ref = pd.read_csv(data_dir+\"sector1lookup.csv\")\n",
    "ref.head()\n",
    "sec = 2\n",
    "ref = pd.read_csv(data_dir+f\"sector{sec}lookup.csv\")\n",
    "tmcl = [\"2_min_cadence\" in fn for fn in ref.Filename]\n",
    "row = ref[ref.TIC_ID.isin([101946933])]\n",
    "string = str(row.Sector)\n",
    "s = string.split(\" \")\n",
    "files = data_dir + ref.Filename.values\n",
    "filepath = files[int(s[0])]\n",
    "lightc = loaders.load_lc(filepath)\n",
    "print(lightc)"
   ]
  },
  {
   "cell_type": "code",
   "execution_count": null,
   "id": "db7d04ee-b91a-48dd-bad4-2a643f04d8ef",
   "metadata": {},
   "outputs": [],
   "source": []
  }
 ],
 "metadata": {
  "environment": {
   "kernel": "python3",
   "name": "common-cpu.m89",
   "type": "gcloud",
   "uri": "gcr.io/deeplearning-platform-release/base-cpu:m89"
  },
  "kernelspec": {
   "display_name": "Python 3",
   "language": "python",
   "name": "python3"
  },
  "language_info": {
   "codemirror_mode": {
    "name": "ipython",
    "version": 3
   },
   "file_extension": ".py",
   "mimetype": "text/x-python",
   "name": "python",
   "nbconvert_exporter": "python",
   "pygments_lexer": "ipython3",
   "version": "3.7.12"
  }
 },
 "nbformat": 4,
 "nbformat_minor": 5
}
